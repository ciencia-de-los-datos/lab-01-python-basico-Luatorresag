{
 "cells": [
  {
   "cell_type": "code",
   "execution_count": 15,
   "metadata": {},
   "outputs": [
    {
     "data": {
      "text/plain": [
       "[('A', 53), ('B', 36), ('C', 27), ('D', 31), ('E', 67)]"
      ]
     },
     "execution_count": 15,
     "metadata": {},
     "output_type": "execute_result"
    }
   ],
   "source": [
    "def pregunta_03():\n",
    "    \"\"\"\n",
    "    Retorne la suma de la columna 2 por cada letra de la primera columna como una lista\n",
    "    de tuplas (letra, suma) ordendas alfabeticamente.\n",
    "\n",
    "    Rta/\n",
    "    [\n",
    "        (\"A\", 53),\n",
    "        (\"B\", 36),\n",
    "        (\"C\", 27),\n",
    "        (\"D\", 31),\n",
    "        (\"E\", 67),\n",
    "    ]\n",
    "\n",
    "    \"\"\"\n",
    "    with open(\"data.csv\", \"r\") as file:\n",
    "        data = file.readlines()\n",
    "    data_1 = [(line.split(\"\\t\")[0], int(line.split(\"\\t\")[1])) for line in data]\n",
    "    data_1 = sorted(data_1)\n",
    "    sum_letter = {}\n",
    "    for element in data_1:\n",
    "        if element[0] in sum_letter:\n",
    "            sum_letter[element[0]] += element[1] \n",
    "        else:\n",
    "            sum_letter[element[0]] = element[1]\n",
    "            \n",
    "    result = [(key, sum_letter[key]) for key in sum_letter]        \n",
    "    # result = [(key, value) for key, value in sum_letter.items()]        \n",
    "    return result\n",
    "pregunta_03()"
   ]
  },
  {
   "cell_type": "code",
   "execution_count": 32,
   "metadata": {},
   "outputs": [
    {
     "data": {
      "text/plain": [
       "[('01', 3),\n",
       " ('02', 4),\n",
       " ('03', 2),\n",
       " ('04', 4),\n",
       " ('05', 3),\n",
       " ('06', 3),\n",
       " ('07', 5),\n",
       " ('08', 6),\n",
       " ('09', 3),\n",
       " ('10', 2),\n",
       " ('11', 2),\n",
       " ('12', 3)]"
      ]
     },
     "execution_count": 32,
     "metadata": {},
     "output_type": "execute_result"
    }
   ],
   "source": [
    "def pregunta_04():\n",
    "    \"\"\"\n",
    "    La columna 3 contiene una fecha en formato `YYYY-MM-DD`. Retorne la cantidad de\n",
    "    registros por cada mes, tal como se muestra a continuación.\n",
    "\n",
    "    Rta/\n",
    "    [\n",
    "        (\"01\", 3),\n",
    "        (\"02\", 4),\n",
    "        (\"03\", 2),\n",
    "        (\"04\", 4),\n",
    "        (\"05\", 3),\n",
    "        (\"06\", 3),\n",
    "        (\"07\", 5),\n",
    "        (\"08\", 6),\n",
    "        (\"09\", 3),\n",
    "        (\"10\", 2),\n",
    "        (\"11\", 2),\n",
    "        (\"12\", 3),\n",
    "    ]\n",
    "\n",
    "    \"\"\"\n",
    "    with open(\"data.csv\", \"r\") as file:\n",
    "        data = file.readlines()\n",
    "    data_1 = [line.split(\"\\t\")[2] for line in data]\n",
    "    data_1 = [line.split(\"-\")[1] for line in data_1]\n",
    "    # data_1 =  sorted(data_1)\n",
    "    count_month = {}\n",
    "    \n",
    "    for element in data_1:\n",
    "        if element in count_month:\n",
    "            count_month[element] += 1\n",
    "        else:\n",
    "            count_month[element] = 1\n",
    "\n",
    "    result = [(key, count_month[key]) for key in count_month]       \n",
    "    result = sorted(result)\n",
    "    \n",
    "    return result\n",
    "\n",
    "pregunta_04()"
   ]
  },
  {
   "cell_type": "code",
   "execution_count": 24,
   "metadata": {},
   "outputs": [
    {
     "data": {
      "text/plain": [
       "'02'"
      ]
     },
     "execution_count": 24,
     "metadata": {},
     "output_type": "execute_result"
    }
   ],
   "source": [
    "'1999-02-28'[5:7]"
   ]
  },
  {
   "cell_type": "code",
   "execution_count": 7,
   "metadata": {},
   "outputs": [
    {
     "data": {
      "text/plain": [
       "[('A', 9, 2), ('B', 9, 1), ('C', 9, 0), ('D', 8, 3), ('E', 9, 1)]"
      ]
     },
     "execution_count": 7,
     "metadata": {},
     "output_type": "execute_result"
    }
   ],
   "source": [
    "def pregunta_05():\n",
    "    \"\"\"\n",
    "    Retorne una lista de tuplas con el valor maximo y minimo de la columna 2 por cada\n",
    "    letra de la columa 1.\n",
    "\n",
    "    Rta/\n",
    "    [\n",
    "        (\"A\", 9, 2),\n",
    "        (\"B\", 9, 1),\n",
    "        (\"C\", 9, 0),\n",
    "        (\"D\", 8, 3),\n",
    "        (\"E\", 9, 1),\n",
    "    ]\n",
    "[('E', 9, 1), ('A', 9, 2), ('B', 9, 1), ('C', 9, 0), ('D', 8, 3)]\n",
    "    \"\"\"\n",
    "    with open(\"data.csv\", \"r\") as file:\n",
    "        data = file.readlines()\n",
    "    data_1 = [(line.split(\"\\t\")[0], int(line.split(\"\\t\")[1])) for line in data]\n",
    "    max_min = {}\n",
    "    for elem in data_1:\n",
    "        if elem[0] in max_min:\n",
    "            max = max_min[elem[0]][0]\n",
    "            min = max_min[elem[0]][1]\n",
    "            if max < elem[1]:\n",
    "                max = elem[1]\n",
    "            if min > elem[1]:\n",
    "                min = elem[1]\n",
    "\n",
    "            max_min[elem[0]] = [max, min]\n",
    "        \n",
    "        else:\n",
    "            max_min[elem[0]] = [elem[1], elem[1]]\n",
    "    \n",
    "    result = [(key,value[0], value[1]) for key, value in max_min.items() ]\n",
    "    result = sorted(result)\n",
    " \n",
    "    \n",
    "    return result\n",
    "pregunta_05()\n",
    "\n"
   ]
  },
  {
   "cell_type": "code",
   "execution_count": 17,
   "metadata": {},
   "outputs": [
    {
     "data": {
      "text/plain": [
       "[('aaa', 1, 9),\n",
       " ('bbb', 1, 9),\n",
       " ('ccc', 1, 10),\n",
       " ('ddd', 0, 9),\n",
       " ('eee', 1, 7),\n",
       " ('fff', 0, 9),\n",
       " ('ggg', 3, 10),\n",
       " ('hhh', 0, 9),\n",
       " ('iii', 0, 9),\n",
       " ('jjj', 5, 17)]"
      ]
     },
     "execution_count": 17,
     "metadata": {},
     "output_type": "execute_result"
    }
   ],
   "source": [
    "def pregunta_06():\n",
    "    \"\"\"\n",
    "    La columna 5 codifica un diccionario donde cada cadena de tres letras corresponde a\n",
    "    una clave y el valor despues del caracter `:` corresponde al valor asociado a la\n",
    "    clave. Por cada clave, obtenga el valor asociado mas pequeño y el valor asociado mas\n",
    "    grande computados sobre todo el archivo.\n",
    "\n",
    "    Rta/\n",
    "    [\n",
    "        (\"aaa\", 1, 9),\n",
    "        (\"bbb\", 1, 9),\n",
    "        (\"ccc\", 1, 10),\n",
    "        (\"ddd\", 0, 9),\n",
    "        (\"eee\", 1, 7),\n",
    "        (\"fff\", 0, 9),\n",
    "        (\"ggg\", 3, 10),\n",
    "        (\"hhh\", 0, 9),\n",
    "        (\"iii\", 0, 9),\n",
    "        (\"jjj\", 5, 17),\n",
    "    ]\n",
    "\n",
    "    \"\"\"\n",
    "    with open(\"data.csv\", \"r\") as file:\n",
    "        data = file.readlines()       \n",
    "    data_1 = [line.split(\"\\t\")[4].strip() for line in data]\n",
    "    data_1 = [elemt.split(\",\") for elemt in data_1]\n",
    "    data_1 = [(elemt.split(\":\")[0], int(elemt.split(\":\")[1])) for lista in data_1 for elemt in lista]\n",
    "    min_max = {}\n",
    "    for elem in data_1:\n",
    "        if elem[0] in min_max:\n",
    "            min = min_max[elem[0]][0]\n",
    "            max = min_max[elem[0]][1]\n",
    "            if max < elem[1]:\n",
    "                max = elem[1]\n",
    "            if min > elem[1]:\n",
    "                min = elem[1]\n",
    "\n",
    "            min_max[elem[0]] = [min, max]\n",
    "        else:\n",
    "            min_max[elem[0]] = [elem[1], elem[1]]\n",
    "    \n",
    "    result = [(key,value[0], value[1]) for key, value in min_max.items()] \n",
    "    result = sorted(result)\n",
    "    return result\n",
    "pregunta_06()"
   ]
  },
  {
   "cell_type": "code",
   "execution_count": 24,
   "metadata": {},
   "outputs": [
    {
     "data": {
      "text/plain": [
       "[(0, ['C']),\n",
       " (1, ['E', 'B', 'E']),\n",
       " (2, ['A', 'E']),\n",
       " (3, ['A', 'B', 'D', 'E', 'E', 'D']),\n",
       " (4, ['E', 'B']),\n",
       " (5, ['B', 'C', 'D', 'D', 'E', 'E', 'E']),\n",
       " (6, ['C', 'E', 'A', 'B']),\n",
       " (7, ['A', 'C', 'E', 'D']),\n",
       " (8, ['E', 'D', 'E', 'A', 'B']),\n",
       " (9, ['A', 'B', 'E', 'A', 'A', 'C'])]"
      ]
     },
     "execution_count": 24,
     "metadata": {},
     "output_type": "execute_result"
    }
   ],
   "source": [
    "def pregunta_07():\n",
    "    \"\"\"\n",
    "    Retorne una lista de tuplas que asocien las columnas 0 y 1. Cada tupla contiene un\n",
    "    valor posible de la columna 1 y una lista con todas las letras asociadas (columna 0)\n",
    "    a dicho valor de la columna 1.\n",
    "\n",
    "    Rta/\n",
    "    [\n",
    "        (0, [\"C\"]),\n",
    "        (1, [\"E\", \"B\", \"E\"]),\n",
    "        (2, [\"A\", \"E\"]),\n",
    "        (3, [\"A\", \"B\", \"D\", \"E\", \"E\", \"D\"]),\n",
    "        (4, [\"E\", \"B\"]),\n",
    "        (5, [\"B\", \"C\", \"D\", \"D\", \"E\", \"E\", \"E\"]),\n",
    "        (6, [\"C\", \"E\", \"A\", \"B\"]),\n",
    "        (7, [\"A\", \"C\", \"E\", \"D\"]),\n",
    "        (8, [\"E\", \"D\", \"E\", \"A\", \"B\"]),\n",
    "        (9, [\"A\", \"B\", \"E\", \"A\", \"A\", \"C\"]),\n",
    "    ]\n",
    "\n",
    "    \"\"\"\n",
    "    with open(\"data.csv\", \"r\") as file:\n",
    "        data = file.readlines()\n",
    "    data_1 = [(line.split(\"\\t\")[0], int(line.split(\"\\t\")[1])) for line in data]\n",
    "    letter_aso = {}\n",
    "    for valor, clave in data_1:\n",
    "        if clave not in letter_aso:\n",
    "            letter_aso[clave] = []\n",
    "        letter_aso[clave].append(valor)\n",
    "    \n",
    "    result = [(key,value) for key, value in letter_aso.items()] \n",
    "    result = sorted(result)   \n",
    "        \n",
    "        \n",
    "    return result\n",
    "pregunta_07()"
   ]
  },
  {
   "cell_type": "code",
   "execution_count": 33,
   "metadata": {},
   "outputs": [
    {
     "data": {
      "text/plain": [
       "[(0, ['C']),\n",
       " (1, ['B', 'E']),\n",
       " (2, ['A', 'E']),\n",
       " (3, ['A', 'B', 'D', 'E']),\n",
       " (4, ['B', 'E']),\n",
       " (5, ['B', 'C', 'D', 'E']),\n",
       " (6, ['A', 'B', 'C', 'E']),\n",
       " (7, ['A', 'C', 'D', 'E']),\n",
       " (8, ['A', 'B', 'D', 'E']),\n",
       " (9, ['A', 'B', 'C', 'E'])]"
      ]
     },
     "execution_count": 33,
     "metadata": {},
     "output_type": "execute_result"
    }
   ],
   "source": [
    "def pregunta_08():\n",
    "    \"\"\"\n",
    "    Genere una lista de tuplas, donde el primer elemento de cada tupla contiene  el valor\n",
    "    de la segunda columna; la segunda parte de la tupla es una lista con las letras\n",
    "    (ordenadas y sin repetir letra) de la primera  columna que aparecen asociadas a dicho\n",
    "    valor de la segunda columna.\n",
    "\n",
    "    Rta/\n",
    "    [\n",
    "        (0, [\"C\"]),\n",
    "        (1, [\"B\", \"E\"]),\n",
    "        (2, [\"A\", \"E\"]),\n",
    "        (3, [\"A\", \"B\", \"D\", \"E\"]),\n",
    "        (4, [\"B\", \"E\"]),\n",
    "        (5, [\"B\", \"C\", \"D\", \"E\"]),\n",
    "        (6, [\"A\", \"B\", \"C\", \"E\"]),\n",
    "        (7, [\"A\", \"C\", \"D\", \"E\"]),\n",
    "        (8, [\"A\", \"B\", \"D\", \"E\"]),\n",
    "        (9, [\"A\", \"B\", \"C\", \"E\"]),\n",
    "    ]\n",
    "\n",
    "    \"\"\"\n",
    "    with open(\"data.csv\", \"r\") as file:\n",
    "        data = file.readlines()\n",
    "    data_1 = [(line.split(\"\\t\")[0], int(line.split(\"\\t\")[1])) for line in data]\n",
    "    letter_aso = {}\n",
    "    for valor, clave in data_1:\n",
    "        if clave not in letter_aso:\n",
    "            letter_aso[clave] = set()\n",
    "        letter_aso[clave].add(valor)\n",
    "    \n",
    "    result = [(key,sorted(list(value))) for key, value in letter_aso.items()] \n",
    "    result = sorted(result)   \n",
    "        \n",
    "        \n",
    "    return result\n",
    "pregunta_08()"
   ]
  },
  {
   "cell_type": "code",
   "execution_count": 40,
   "metadata": {},
   "outputs": [
    {
     "data": {
      "text/plain": [
       "{'aaa': 13,\n",
       " 'bbb': 16,\n",
       " 'ccc': 23,\n",
       " 'ddd': 23,\n",
       " 'eee': 15,\n",
       " 'fff': 20,\n",
       " 'ggg': 13,\n",
       " 'hhh': 16,\n",
       " 'iii': 18,\n",
       " 'jjj': 18}"
      ]
     },
     "execution_count": 40,
     "metadata": {},
     "output_type": "execute_result"
    }
   ],
   "source": [
    "def pregunta_09():\n",
    "    \"\"\"\n",
    "    Retorne un diccionario que contenga la cantidad de registros en que aparece cada\n",
    "    clave de la columna 5.\n",
    "\n",
    "    Rta/\n",
    "    {\n",
    "        \"aaa\": 13,\n",
    "        \"bbb\": 16,\n",
    "        \"ccc\": 23,\n",
    "        \"ddd\": 23,\n",
    "        \"eee\": 15,\n",
    "        \"fff\": 20,\n",
    "        \"ggg\": 13,\n",
    "        \"hhh\": 16,\n",
    "        \"iii\": 18,\n",
    "        \"jjj\": 18,\n",
    "    }\n",
    "\n",
    "    \"\"\"\n",
    "    with open(\"data.csv\", \"r\") as file:\n",
    "        data = file.readlines()       \n",
    "    data_1 = [line.split(\"\\t\")[4].strip() for line in data]\n",
    "    data_1 = [elemt.split(\",\") for elemt in data_1]\n",
    "    data_1 = [elemt.split(\":\")[0] for lista in data_1 for elemt in lista]\n",
    "    sum_letter = {}\n",
    "    for element in data_1:\n",
    "        if element in sum_letter:\n",
    "            sum_letter[element] += 1\n",
    "        else:\n",
    "            sum_letter[element] = 1\n",
    "            \n",
    "    result = sorted(sum_letter)\n",
    "    letter = {}\n",
    "    for element in result:\n",
    "        letter[element] = sum_letter[element]\n",
    "        \n",
    "        \n",
    "    return letter\n",
    "\n",
    "pregunta_09()"
   ]
  },
  {
   "cell_type": "code",
   "execution_count": 48,
   "metadata": {},
   "outputs": [
    {
     "data": {
      "text/plain": [
       "[('E', 3, 5),\n",
       " ('A', 3, 4),\n",
       " ('B', 4, 4),\n",
       " ('A', 2, 4),\n",
       " ('C', 4, 4),\n",
       " ('A', 2, 5),\n",
       " ('A', 3, 6),\n",
       " ('B', 2, 3),\n",
       " ('E', 4, 6),\n",
       " ('B', 4, 6),\n",
       " ('C', 4, 5),\n",
       " ('C', 4, 3),\n",
       " ('D', 4, 5),\n",
       " ('E', 2, 3),\n",
       " ('B', 2, 5),\n",
       " ('D', 2, 4),\n",
       " ('E', 3, 6),\n",
       " ('D', 2, 3),\n",
       " ('E', 4, 3),\n",
       " ('E', 2, 3),\n",
       " ('E', 2, 3),\n",
       " ('E', 3, 3),\n",
       " ('D', 3, 3),\n",
       " ('A', 3, 5),\n",
       " ('E', 2, 6),\n",
       " ('E', 3, 6),\n",
       " ('A', 3, 3),\n",
       " ('E', 3, 5),\n",
       " ('A', 2, 5),\n",
       " ('C', 4, 6),\n",
       " ('A', 2, 5),\n",
       " ('D', 2, 6),\n",
       " ('E', 2, 4),\n",
       " ('B', 3, 6),\n",
       " ('B', 3, 5),\n",
       " ('D', 2, 3),\n",
       " ('B', 2, 5),\n",
       " ('C', 4, 3),\n",
       " ('E', 2, 3),\n",
       " ('E', 3, 3)]"
      ]
     },
     "execution_count": 48,
     "metadata": {},
     "output_type": "execute_result"
    }
   ],
   "source": [
    "def pregunta_10():\n",
    "    \"\"\"\n",
    "    Retorne una lista de tuplas contengan por cada tupla, la letra de la columna 1 y la\n",
    "    cantidad de elementos de las columnas 4 y 5.\n",
    "\n",
    "    Rta/\n",
    "    [\n",
    "        (\"E\", 3, 5),\n",
    "        (\"A\", 3, 4),\n",
    "        (\"B\", 4, 4),\n",
    "        ...\n",
    "        (\"C\", 4, 3),\n",
    "        (\"E\", 2, 3),\n",
    "        (\"E\", 3, 3),\n",
    "    ]\n",
    "\n",
    "\n",
    "    \"\"\"\n",
    "    with open(\"data.csv\", \"r\") as file:\n",
    "        data = file.readlines()   \n",
    "    data_1 = [(line.split(\"\\t\")[0],line.split(\"\\t\")[3],line.split(\"\\t\")[4].strip())  for line in data]\n",
    "    data_1 = [(a, len(b.split(\",\")), len(c.split(\",\"))) for a,b,c in data_1]\n",
    "     \n",
    "    \n",
    "    return data_1\n",
    "pregunta_10()"
   ]
  },
  {
   "cell_type": "code",
   "execution_count": 90,
   "metadata": {},
   "outputs": [
    {
     "data": {
      "text/plain": [
       "{'a': 122, 'b': 49, 'c': 91, 'd': 73, 'e': 86, 'f': 134, 'g': 35}"
      ]
     },
     "execution_count": 90,
     "metadata": {},
     "output_type": "execute_result"
    }
   ],
   "source": [
    "def pregunta_11():\n",
    "    \"\"\"\n",
    "    Retorne un diccionario que contengan la suma de la columna 2 para cada letra de la\n",
    "    columna 4, ordenadas alfabeticamente.\n",
    "\n",
    "    Rta/\n",
    "    {\n",
    "        \"a\": 122,\n",
    "        \"b\": 49,\n",
    "        \"c\": 91,\n",
    "        \"d\": 73,\n",
    "        \"e\": 86,\n",
    "        \"f\": 134,\n",
    "        \"g\": 35,\n",
    "    }\n",
    "\n",
    "\n",
    "    \"\"\"\n",
    "    with open(\"data.csv\", \"r\") as file:\n",
    "        data = file.readlines()\n",
    "    data_1 = [(line.split(\"\\t\")[1],line.split(\"\\t\")[3])  for line in data]\n",
    "    data_1 = [(b.split(\",\"), int(a) )  for  a, b in data_1]\n",
    "    letter = []\n",
    "    for lista, value in  data_1:\n",
    "        for key  in lista:\n",
    "            letter.append((key,value))\n",
    "    dic_letter = {}\n",
    "    for key, value in letter:\n",
    "        if key not in dic_letter:\n",
    "            dic_letter[key] = value\n",
    "        else:\n",
    "            dic_letter[key] = dic_letter[key] + value \n",
    "    \n",
    "    \n",
    "    result = sorted(dic_letter)\n",
    "    dic_result = {}\n",
    "    for key in result:\n",
    "        dic_result[key] = dic_letter[key]\n",
    "    \n",
    "    \n",
    "      \n",
    "    return dic_result\n",
    "pregunta_11()"
   ]
  },
  {
   "cell_type": "code",
   "execution_count": 109,
   "metadata": {},
   "outputs": [
    {
     "data": {
      "text/plain": [
       "{'A': 177, 'B': 187, 'C': 114, 'D': 136, 'E': 324}"
      ]
     },
     "execution_count": 109,
     "metadata": {},
     "output_type": "execute_result"
    }
   ],
   "source": [
    "def pregunta_12():\n",
    "    import re\n",
    "    \"\"\"\n",
    "    Genere un diccionario que contengan como clave la columna 1 y como valor la suma de\n",
    "    los valores de la columna 5 sobre todo el archivo.\n",
    "\n",
    "    Rta/\n",
    "    {\n",
    "        'A': 177,\n",
    "        'B': 187,\n",
    "        'C': 114,\n",
    "        'D': 136,\n",
    "        'E': 324\n",
    "    }\n",
    "\n",
    "    \"\"\"\n",
    "    with open(\"data.csv\", \"r\") as file:\n",
    "        data = []\n",
    "        for line in file:\n",
    "            data.append(line.split(\"\\t\"))\n",
    "    data_1 = [ (lista[0], lista[4].strip()) for lista  in data]\n",
    "    data_1 = [ (x, re.findall(r\"\\d+\", y)) for x,y in data_1]\n",
    "    # data_1 = [(a, b.split(\",\")) for a,b in data_1]\n",
    "    values = []\n",
    "    for key, lista in data_1:\n",
    "        lista = [int(vlr) for vlr in lista]\n",
    "        values.append((key, sum(lista)))\n",
    "    \n",
    "    dict_key = {}\n",
    "    for key,value in values:\n",
    "        if key not in dict_key:\n",
    "            dict_key[key] = value\n",
    "        else:\n",
    "            dict_key[key] = dict_key[key] + value\n",
    "    \n",
    "    result = sorted(dict_key)\n",
    "    dict_resul = dict()\n",
    "    for key in result:\n",
    "        dict_resul[key]= dict_key[key]\n",
    "    \n",
    "        \n",
    "    return dict_resul\n",
    "pregunta_12()"
   ]
  },
  {
   "cell_type": "code",
   "execution_count": 98,
   "metadata": {},
   "outputs": [
    {
     "data": {
      "text/plain": [
       "['12', '3', '9', '8', '2']"
      ]
     },
     "execution_count": 98,
     "metadata": {},
     "output_type": "execute_result"
    }
   ],
   "source": [
    "import re\n",
    "x = 'jjj:12,bbb:3,ddd:9,ggg:8,hhh:2'\n",
    "re.findall(r\"\\d+\", x)"
   ]
  },
  {
   "cell_type": "code",
   "execution_count": 104,
   "metadata": {},
   "outputs": [
    {
     "data": {
      "text/plain": [
       "15"
      ]
     },
     "execution_count": 104,
     "metadata": {},
     "output_type": "execute_result"
    }
   ],
   "source": [
    "list = (1, 2 , 3 , 4 , 5)\n",
    "sum(list)"
   ]
  }
 ],
 "metadata": {
  "kernelspec": {
   "display_name": ".ven",
   "language": "python",
   "name": "python3"
  },
  "language_info": {
   "codemirror_mode": {
    "name": "ipython",
    "version": 3
   },
   "file_extension": ".py",
   "mimetype": "text/x-python",
   "name": "python",
   "nbconvert_exporter": "python",
   "pygments_lexer": "ipython3",
   "version": "3.10.9"
  }
 },
 "nbformat": 4,
 "nbformat_minor": 2
}
